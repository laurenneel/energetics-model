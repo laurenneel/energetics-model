{
 "cells": [
  {
   "cell_type": "code",
   "execution_count": null,
   "metadata": {},
   "outputs": [],
   "source": [
    "#'/Users/laurenneel/Documents/repo_energetics/energetics-model/output.csv'"
   ]
  }
 ],
 "metadata": {
  "kernelspec": {
   "display_name": ".venv",
   "language": "python",
   "name": "python3"
  },
  "language_info": {
   "name": "python",
   "version": "3.8.2"
  },
  "orig_nbformat": 4,
  "vscode": {
   "interpreter": {
    "hash": "45eb5877883b2b57d84becf5be6e27beb4fde762018cb87fa112a453076e36a8"
   }
  }
 },
 "nbformat": 4,
 "nbformat_minor": 2
}
